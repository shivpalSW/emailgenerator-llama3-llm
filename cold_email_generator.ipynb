{
  "nbformat": 4,
  "nbformat_minor": 0,
  "metadata": {
    "colab": {
      "provenance": []
    },
    "kernelspec": {
      "name": "python3",
      "display_name": "Python 3"
    },
    "language_info": {
      "name": "python"
    }
  },
  "cells": [
    {
      "cell_type": "markdown",
      "source": [
        "- Reference :- https://python.langchain.com/docs/integrations/chat/groq/"
      ],
      "metadata": {
        "id": "4VlSCl808hcR"
      }
    },
    {
      "cell_type": "code",
      "execution_count": 1,
      "metadata": {
        "colab": {
          "base_uri": "https://localhost:8080/"
        },
        "id": "0gQ4vHN48XUD",
        "outputId": "723c9597-5916-436c-e7f4-046f1a354a27"
      },
      "outputs": [
        {
          "name": "stdout",
          "output_type": "stream",
          "text": [
            "Enter your Groq API key: ··········\n"
          ]
        }
      ],
      "source": [
        "import getpass\n",
        "import os\n",
        "\n",
        "if \"GROQ_API_KEY\" not in os.environ:\n",
        "    os.environ[\"GROQ_API_KEY\"] = getpass.getpass(\"Enter your Groq API key: \")"
      ]
    },
    {
      "cell_type": "code",
      "source": [
        "%pip install -qU langchain-groq"
      ],
      "metadata": {
        "colab": {
          "base_uri": "https://localhost:8080/"
        },
        "id": "eFSytyqe8bRB",
        "outputId": "49c2b245-5552-4920-876c-fc38972323f9"
      },
      "execution_count": 2,
      "outputs": [
        {
          "output_type": "stream",
          "name": "stdout",
          "text": [
            "\u001b[2K     \u001b[90m━━━━━━━━━━━━━━━━━━━━━━━━━━━━━━━━━━━━━━━━\u001b[0m \u001b[32m50.4/50.4 kB\u001b[0m \u001b[31m1.3 MB/s\u001b[0m eta \u001b[36m0:00:00\u001b[0m\n",
            "\u001b[2K   \u001b[90m━━━━━━━━━━━━━━━━━━━━━━━━━━━━━━━━━━━━━━━━\u001b[0m \u001b[32m106.5/106.5 kB\u001b[0m \u001b[31m4.5 MB/s\u001b[0m eta \u001b[36m0:00:00\u001b[0m\n",
            "\u001b[2K   \u001b[90m━━━━━━━━━━━━━━━━━━━━━━━━━━━━━━━━━━━━━━━━\u001b[0m \u001b[32m404.4/404.4 kB\u001b[0m \u001b[31m11.1 MB/s\u001b[0m eta \u001b[36m0:00:00\u001b[0m\n",
            "\u001b[2K   \u001b[90m━━━━━━━━━━━━━━━━━━━━━━━━━━━━━━━━━━━━━━━━\u001b[0m \u001b[32m76.4/76.4 kB\u001b[0m \u001b[31m3.7 MB/s\u001b[0m eta \u001b[36m0:00:00\u001b[0m\n",
            "\u001b[2K   \u001b[90m━━━━━━━━━━━━━━━━━━━━━━━━━━━━━━━━━━━━━━━━\u001b[0m \u001b[32m78.0/78.0 kB\u001b[0m \u001b[31m3.6 MB/s\u001b[0m eta \u001b[36m0:00:00\u001b[0m\n",
            "\u001b[2K   \u001b[90m━━━━━━━━━━━━━━━━━━━━━━━━━━━━━━━━━━━━━━━━\u001b[0m \u001b[32m295.8/295.8 kB\u001b[0m \u001b[31m15.1 MB/s\u001b[0m eta \u001b[36m0:00:00\u001b[0m\n",
            "\u001b[2K   \u001b[90m━━━━━━━━━━━━━━━━━━━━━━━━━━━━━━━━━━━━━━━━\u001b[0m \u001b[32m141.9/141.9 kB\u001b[0m \u001b[31m7.8 MB/s\u001b[0m eta \u001b[36m0:00:00\u001b[0m\n",
            "\u001b[2K   \u001b[90m━━━━━━━━━━━━━━━━━━━━━━━━━━━━━━━━━━━━━━━━\u001b[0m \u001b[32m54.5/54.5 kB\u001b[0m \u001b[31m2.8 MB/s\u001b[0m eta \u001b[36m0:00:00\u001b[0m\n",
            "\u001b[2K   \u001b[90m━━━━━━━━━━━━━━━━━━━━━━━━━━━━━━━━━━━━━━━━\u001b[0m \u001b[32m58.3/58.3 kB\u001b[0m \u001b[31m3.2 MB/s\u001b[0m eta \u001b[36m0:00:00\u001b[0m\n",
            "\u001b[?25h"
          ]
        }
      ]
    },
    {
      "cell_type": "code",
      "source": [
        "from langchain_groq import ChatGroq"
      ],
      "metadata": {
        "id": "nRz0qiuP8bTy"
      },
      "execution_count": 3,
      "outputs": []
    },
    {
      "cell_type": "code",
      "source": [
        "from langchain_groq import ChatGroq\n",
        "\n",
        "llm = ChatGroq(\n",
        "    model=\"llama-3.1-70b-versatile\",\n",
        "    temperature=0,\n",
        "    max_tokens=None,\n",
        "    timeout=None,\n",
        "    max_retries=2,)\n",
        "responce= llm.invoke(\"The first members who founded Apple\")\n",
        "print(responce.content)"
      ],
      "metadata": {
        "colab": {
          "base_uri": "https://localhost:8080/"
        },
        "id": "SeSedvau8bWX",
        "outputId": "2688a132-6b7d-423c-9fa2-69d7ddec70db"
      },
      "execution_count": 6,
      "outputs": [
        {
          "output_type": "stream",
          "name": "stdout",
          "text": [
            "The first members who founded Apple were:\n",
            "\n",
            "1. Steve Jobs (1955-2011) - Co-founder, Chairman, and CEO of Apple.\n",
            "2. Steve Wozniak (born 1950) - Co-founder, engineer, and inventor of the Apple I and Apple II computers.\n",
            "3. Ronald Wayne (born 1934) - Co-founder, who designed the company's first logo and wrote the partnership agreement. However, he sold his 10% stake in the company back to Jobs and Wozniak for $800 just a few months after the company was founded.\n",
            "\n",
            "These three individuals founded Apple Computer on April 1, 1976, in Cupertino, California.\n"
          ]
        }
      ]
    },
    {
      "cell_type": "code",
      "source": [
        "%pip install -qU langchain_community beautifulsoup4"
      ],
      "metadata": {
        "colab": {
          "base_uri": "https://localhost:8080/"
        },
        "id": "oGjOWa-M_yxI",
        "outputId": "38cb1711-6fce-417a-a777-232cac81c679"
      },
      "execution_count": 8,
      "outputs": [
        {
          "output_type": "stream",
          "name": "stdout",
          "text": [
            "\u001b[2K   \u001b[90m━━━━━━━━━━━━━━━━━━━━━━━━━━━━━━━━━━━━━━━━\u001b[0m \u001b[32m2.4/2.4 MB\u001b[0m \u001b[31m25.0 MB/s\u001b[0m eta \u001b[36m0:00:00\u001b[0m\n",
            "\u001b[2K   \u001b[90m━━━━━━━━━━━━━━━━━━━━━━━━━━━━━━━━━━━━━━━━\u001b[0m \u001b[32m1.0/1.0 MB\u001b[0m \u001b[31m34.9 MB/s\u001b[0m eta \u001b[36m0:00:00\u001b[0m\n",
            "\u001b[2K   \u001b[90m━━━━━━━━━━━━━━━━━━━━━━━━━━━━━━━━━━━━━━━━\u001b[0m \u001b[32m49.3/49.3 kB\u001b[0m \u001b[31m2.8 MB/s\u001b[0m eta \u001b[36m0:00:00\u001b[0m\n",
            "\u001b[?25h"
          ]
        }
      ]
    },
    {
      "cell_type": "markdown",
      "source": [
        "## Using web based loader"
      ],
      "metadata": {
        "id": "xC-WhAJh9OmJ"
      }
    },
    {
      "cell_type": "markdown",
      "source": [
        "- Reference:- https://python.langchain.com/docs/integrations/document_loaders/web_base/"
      ],
      "metadata": {
        "id": "2pw-jHNa8xEO"
      }
    },
    {
      "cell_type": "code",
      "source": [
        "from langchain_community.document_loaders import WebBaseLoader\n",
        "\n",
        "loader = WebBaseLoader(\"https://www.accenture.com/in-en/careers/jobdetails?id=ATCI-4646990-S1792588_en&title=Responsible%20AI%20Engineer\")\n",
        "page_data = loader.load()\n",
        "#print(page_data)\n",
        "page_data"
      ],
      "metadata": {
        "colab": {
          "base_uri": "https://localhost:8080/"
        },
        "id": "ssscEkgS8bY4",
        "outputId": "9f97853e-fc0b-4ccf-aade-b39eaebd333e"
      },
      "execution_count": 50,
      "outputs": [
        {
          "output_type": "execute_result",
          "data": {
            "text/plain": [
              "[Document(metadata={'source': 'https://www.accenture.com/in-en/careers/jobdetails?id=ATCI-4646990-S1792588_en&title=Responsible%20AI%20Engineer', 'title': 'Responsible AI Engineer', 'description': 'Learn more about applying for Responsible AI Engineer position at Accenture.', 'language': 'en'}, page_content='\\n\\n\\n\\n\\nResponsible AI Engineer\\n\\n\\n\\n\\n\\n\\n\\n\\n\\n\\n\\n\\n\\n\\n\\n\\n\\n\\n\\n\\n\\n\\n\\n\\n\\n\\n\\n\\n\\n\\n\\n\\n\\n\\n\\n\\n\\n\\n\\n\\n\\n\\n\\n\\n\\n\\n\\n\\n\\n\\n\\n\\n\\n\\n\\n\\n\\n\\n\\n\\n\\n\\n\\n\\n\\n\\n\\n\\n\\n\\n\\n\\n\\n\\nSkip to main content\\nSkip to footer\\n\\n\\n\\n\\n\\n\\n\\n\\n\\n\\n\\n\\n\\n\\n\\n\\n\\n\\n\\n\\n\\n\\n\\n\\n\\n\\n\\n\\nInsights\\n\\n\\nServices\\n\\n\\n\\n\\n\\n\\n\\n\\n\\n\\n\\n\\n\\n\\n\\n\\n\\n\\nCloud\\n\\t\\t\\t  \\n\\t\\t  \\n\\n\\nCybersecurity\\n\\t\\t\\t  \\n\\t\\t  \\n\\n\\nData and Artificial Intelligence\\n\\t\\t\\t  \\n\\t\\t  \\n\\n\\nDigital Engineering and Manufacturing\\n\\t\\t\\t  \\n\\t\\t  \\n\\n\\nEmerging Technology\\n\\t\\t\\t  \\n\\t\\t  \\n\\n\\nEnterprise Platforms\\n\\t\\t\\t  \\n\\t\\t  \\n\\n\\nFinance and Risk Management\\n\\t\\t\\t  \\n\\t\\t  \\n\\n\\nLearning\\n\\t\\t\\t  \\n\\t\\t  \\n\\n\\nMarketing and Experience\\n\\t\\t\\t  \\n\\t\\t  \\n\\n\\nMetaverse\\n\\t\\t\\t  \\n\\t\\t  \\n\\n\\nPrivate Equity\\n\\t\\t\\t  \\n\\t\\t  \\n\\n\\nSales and Commerce\\n\\t\\t\\t  \\n\\t\\t  \\n\\n\\nStrategic Managed Services\\n\\t\\t\\t  \\n\\t\\t  \\n\\n\\nStrategy\\n\\t\\t\\t  \\n\\t\\t  \\n\\n\\nSupply Chain\\n\\t\\t\\t  \\n\\t\\t  \\n\\n\\nSustainability\\n\\t\\t\\t  \\n\\t\\t  \\n\\n\\nTalent and Organization\\n\\t\\t\\t  \\n\\t\\t  \\n\\n\\nTechnology Transformation\\n\\t\\t\\t  \\n\\t\\t  \\n\\n\\n\\n\\n\\n\\n\\n\\n\\n\\n\\n\\n\\n\\n\\n\\n\\n\\n\\n\\nIndustries\\n\\n\\n\\n\\n\\n\\n\\n\\n\\n\\n\\n\\n\\n\\n\\n\\n\\n\\nAerospace and Defense\\n\\t\\t\\t  \\n\\t\\t  \\n\\n\\nAutomotive\\n\\t\\t\\t  \\n\\t\\t  \\n\\n\\n Banking\\n\\t\\t\\t  \\n\\t\\t  \\n\\n\\n Capital Markets\\n\\t\\t\\t  \\n\\t\\t  \\n\\n\\nChemicals\\n\\t\\t\\t  \\n\\t\\t  \\n\\n\\n Communications and Media\\n\\t\\t\\t  \\n\\t\\t  \\n\\n\\n Consumer Goods and Services\\n\\t\\t\\t  \\n\\t\\t  \\n\\n\\n Energy\\n\\t\\t\\t  \\n\\t\\t  \\n\\n\\nHealth\\n\\t\\t\\t  \\n\\t\\t  \\n\\n\\n High Tech\\n\\t\\t\\t  \\n\\t\\t  \\n\\n\\n Industrial\\n\\t\\t\\t  \\n\\t\\t  \\n\\n\\n Insurance\\n\\t\\t\\t  \\n\\t\\t  \\n\\n\\nLife Sciences\\n\\t\\t\\t  \\n\\t\\t  \\n\\n\\nNatural Resources\\n\\t\\t\\t  \\n\\t\\t  \\n\\n\\n Public Service\\n\\t\\t\\t  \\n\\t\\t  \\n\\n\\n Retail\\n\\t\\t\\t  \\n\\t\\t  \\n\\n\\nSoftware and Platforms\\n\\t\\t\\t  \\n\\t\\t  \\n\\n\\n Travel\\n\\t\\t\\t  \\n\\t\\t  \\n\\n\\nUtilities\\n\\t\\t\\t  \\n\\t\\t  \\n\\n\\n\\n\\n\\n\\n\\n\\n\\n\\n\\n\\n\\n\\n\\n\\n\\n\\n\\n\\nCareers\\n\\n\\n\\n\\n\\n\\n\\n\\n\\n\\n\\n\\n\\n\\n\\n\\n\\n\\nCareers Home\\n\\t\\t\\t  \\n\\t\\t  \\n\\n\\nSearch Jobs\\n\\t\\t\\t  \\n\\t\\t  \\n\\n\\n\\n\\n\\n\\n\\n\\nJOIN US\\nJOIN US\\n\\nCareers\\n\\n\\nSearch and Apply\\n\\t\\t\\t  \\n\\t\\t  \\n\\n\\nExperienced Professionals\\n\\t\\t\\t  \\n\\t\\t  \\n\\n\\nTraining & Development\\n\\t\\t\\t  \\n\\t\\t  \\n\\n\\nWork Environment\\n\\t\\t\\t  \\n\\t\\t  \\n\\n\\n\\n\\n\\n\\n\\n\\nEXPLORE JOBS\\nEXPLORE JOBS\\n\\nCareers\\n\\n\\nSearch Jobs by Areas of Expertise\\n\\t\\t\\t  \\n\\t\\t  \\n\\n\\nConsulting Jobs\\n\\t\\t\\t  \\n\\t\\t  \\n\\n\\nCorporate Jobs\\n\\t\\t\\t  \\n\\t\\t  \\n\\n\\nDigital Jobs\\n\\t\\t\\t  \\n\\t\\t  \\n\\n\\nOperations Jobs\\n\\t\\t\\t  \\n\\t\\t  \\n\\n\\nStrategy Jobs\\n\\t\\t\\t  \\n\\t\\t  \\n\\n\\nTechnology Jobs\\n\\t\\t\\t  \\n\\t\\t  \\n\\n\\nIndustry X\\n\\t\\t\\t  \\n\\t\\t  \\n\\n\\n\\n\\n\\n\\n\\n\\n\\n\\n\\n\\n\\n\\n\\n\\n\\n\\n\\n\\nAbout Accenture\\n\\n\\n\\n\\n\\n\\n\\n\\n\\n\\n\\n\\n\\n\\n\\nWHO WE ARE\\nWHO WE ARE\\n\\nAbout Accenture\\n\\n\\nAbout Accenture\\n\\t\\t\\t  \\n\\t\\t  \\n\\n\\nLeadership\\n\\t\\t\\t  \\n\\t\\t  \\n\\n\\nHow We Work with Clients\\n\\t\\t\\t  \\n\\t\\t  \\n\\n\\nCase Studies\\n\\t\\t\\t  \\n\\t\\t  \\n\\n\\nNewsroom\\n\\t\\t\\t  \\n\\t\\t  \\n\\n\\nInvestor Relations\\n\\t\\t\\t  \\n\\t\\t  \\n\\n\\nInclusion & Diversity\\n\\t\\t\\t  \\n\\t\\t  \\n\\n\\n\\n\\n\\n\\n\\n\\nHow We\\'re Organized\\nHow We\\'re Organized\\n\\nAbout Accenture\\n\\n\\nStrategy and Consulting\\n\\t\\t\\t  \\n\\t\\t  \\n\\n\\nSong\\n\\t\\t\\t  \\n\\t\\t  \\n\\n\\nTechnology\\n\\t\\t\\t  \\n\\t\\t  \\n\\n\\nOperations\\n\\t\\t\\t  \\n\\t\\t  \\n\\n\\nIndustry X\\n\\t\\t\\t  \\n\\t\\t  \\n\\n\\n\\n\\n\\n\\n\\n\\n\\n\\n\\n\\n\\n\\n\\n\\n\\n\\n\\n\\n\\n\\n\\nContact Us\\n\\n\\nCareers\\n\\n\\nLocations\\n\\n\\nAccess Application\\n\\n\\nSaved Jobs\\n\\n\\n\\n\\n\\n\\nYour browser does not support JavaScript. Some\\n\\tcomponents may not be visible.\\n\\n\\n\\n\\n\\n\\n\\n\\n\\n\\n\\n\\n\\n\\n\\n\\n\\n\\n\\n\\n\\n\\n\\n\\n\\n\\nYour browser does not support JavaScript. Some\\n\\tcomponents may not be visible.\\n\\n\\n\\n\\n\\n\\nIndia\\n\\n\\n\\n\\n\\nDefault (English)\\nAll COUNTRIES & LANGUAGES\\n\\nArgentina (Spanish)\\n\\n\\nAustralia (English)\\n\\n\\nAustria (German) \\n\\n\\nBelgium (English)\\n\\n\\nBrazil (Portuguese)\\n\\n\\nBulgaria (English)\\n\\n\\nCanada (English)\\n\\n\\nCanada (French) \\n\\n\\nChile (Spanish)\\n\\n\\nChina/Hong Kong SAR (English)\\n\\n\\nChina/Mainland (Chinese)\\n\\n\\nChina/Mainland (English)\\n\\n\\nColombia (Spanish)\\n\\n\\nCosta Rica (English)\\n\\n\\nCzech Republic (English)\\n\\n\\nDenmark (English)\\n\\n\\nFinland (English)\\n\\n\\nFrance (French)\\n\\n\\nGermany (German)\\n\\n\\nGreece (English)\\n\\n\\nHungary (English)\\n\\n\\nIndia (English)\\n\\n\\nIndonesia (English)\\n\\n\\nIreland  (English)\\n\\n\\nIsrael (English)\\n\\n\\nItaly (Italian)\\n\\n\\nJapan (Japanese)\\n\\n\\nLatvia (English)\\n\\n\\nLuxembourg (English)\\n\\n\\nMalaysia (English)\\n\\n\\nMauritius (English)\\n\\n\\nMexico (Spanish)\\n\\n\\nNetherlands (English)\\n\\n\\nNew Zealand (English)\\n\\n\\nNorway (English)\\n\\n\\nPhilippines (English)\\n\\n\\nPoland (English)\\n\\n\\nPoland (Polish)\\n\\n\\nPortugal (Portuguese)\\n\\n\\nRomania (English)\\n\\n\\nSaudi Arabia (English)\\n\\n\\nSingapore (English)\\n\\n\\nSlovakia (Slovak)\\n\\n\\nSlovakia (English)\\n\\n\\nSouth Africa (English)\\n\\n\\nSpain (Spanish)\\n\\n\\nSweden (English)\\n\\n\\nSwitzerland (English)\\n\\n\\nSwitzerland (German)\\n\\n\\nThailand (English)\\n\\n\\nUAE (English)\\n\\n\\nUnited Kingdom (English)\\n\\n\\nUSA (English)\\n\\n\\n\\n\\n\\n\\n\\n\\n\\n\\n\\n\\n\\n\\n\\n\\n\\n\\n\\n\\n\\n\\n\\n\\n\\n\\n\\nBack to Previous Job\\n\\n\\n\\n\\n\\nNew Job Search\\n\\n\\n\\n\\n\\n\\n\\n\\nResponsible AI Engineer\\n\\n\\nPune\\n\\nJob No. atci-4646990-s1792588\\n\\nFull-time\\n\\n\\n\\n\\nApply Now\\n\\n\\n\\nPlease be informed that at any given point in time, you can only have one \"Active\" application.\\n\\n\\n\\n\\n\\nSave Job\\n\\n\\nSaved Job\\n\\n\\n\\nRegister for Job Alerts\\n\\n\\n\\n\\n\\nShare\\n\\n\\n\\n\\n\\n\\n\\n\\n\\nShare\\n\\n\\n\\n\\n\\n\\n\\n\\n\\n\\n\\n\\n\\n\\n\\n\\n\\n\\nJob Link:\\n\\n\\nCopy\\n\\n\\n\\n\\n\\n\\n\\n\\n\\n\\ngo back to referred job\\n\\n\\n\\n\\nPlease be informed that at any given point in time, you can only have one \"Active\" application.\\n\\n\\n\\n\\n\\n\\n\\n\\n\\n\\n\\n\\n\\n\\n\\n\\n\\n\\n\\n\\n\\n\\n\\n\\n\\n\\n\\n\\n\\n\\n\\n\\n\\xa0 \\xa0 \\xa0 \\xa0 \\xa0\\xa0\\n\\n\\n\\n\\n\\n\\n\\n\\nThis job is no longer available. Continue your job search here.\\n\\n\\n\\n\\n\\n\\n\\n\\nOK\\n\\n\\n\\n\\n\\n\\n\\n\\n\\n\\n\\n\\n\\n\\n\\n\\n\\n\\n\\n\\n\\n\\n\\n\\n\\n\\n\\n\\n\\n\\n\\n\\n\\n\\n\\n\\n\\n\\n\\n\\n\\n\\n\\n\\n\\n\\n\\nJob Description\\n\\n\\n\\n\\n\\nProject Role : Responsible AI EngineerProject Role Description : Assess AI systems for adherence to predefined thresholds and benchmarks related to responsible, ethical and sustainable practices. Design and implement technology mitigation strategies for systems to ensure ethical and responsible standards are achieved.                                                                                                                                                                                                                                                                               Must have skills : Natural Language Processing (NLP)Good to have skills : NAMinimum 3 year(s) of experience is requiredEducational Qualification : 15 years full time educationSummary: \\nAs a Responsible AI Engineer, you will assess AI systems for adherence to predefined thresholds and benchmarks related to responsible, ethical, and sustainable practices. You will design and implement technology mitigation strategies for systems to ensure ethical and responsible standards are achieved. Your typical day will involve evaluating AI systems, identifying areas of improvement, and implementing strategies to address ethical concerns and promote responsible AI practices.\\n \\nRoles & Responsibilities: \\n- Expected to perform independently and become an SME.\\n- Required active participation/contribution in team discussions.\\n- Contribute in providing solutions to work-related problems.\\n- Assess AI systems for adherence to predefined thresholds and benchmarks related to responsible, ethical, and sustainable practices.\\n- Design and implement technology mitigation strategies for systems to ensure ethical and responsible standards are achieved.\\n- Identify areas of improvement in AI systems and propose solutions to address ethical concerns.\\n- Collaborate with cross-functional teams to develop and implement responsible AI practices.\\n- Stay updated with the latest advancements and research in responsible AI and incorporate them into system design and development.\\n \\nProfessional & Technical Skills: \\n- Must To Have Skills: Proficiency in Natural Language Processing (NLP).\\n- Strong understanding of statistical analysis and machine learning algorithms.\\n- Experience with data visualization tools such as Tableau or Power BI.\\n- Hands-on implementing various machine learning algorithms such as linear regression, logistic regression, decision trees, and clustering algorithms.\\n- Solid grasp of data munging techniques, including data cleaning, transformation, and normalization to ensure data quality and integrity.\\n \\nAdditional Information: \\n- The candidate should have a minimum of 3 years of experience in Natural Language Processing (NLP).\\n- This position is based at our Pune office.\\n- A 15 years full-time education is required.\\n      \\t\\t\\n\\n\\n\\n\\n\\nshow more\\n\\n\\nshow less\\n\\n\\n\\n\\n\\n\\n\\n\\n\\nQualifications\\n\\n\\n\\n\\n\\n\\t\\t\\t\\t15 years full time education\\n\\t\\t\\t\\n\\n\\n\\n\\n\\n\\n\\n\\n\\n\\n\\nImportant Notice\\n\\n\\n\\n\\n\\n\\n\\nWe have been alerted to the existence of fraudulent messages asking job seekers to set up payment to cover various costs associated with establishing employment at Accenture. No one is ever required to pay for employment at Accenture. If you are contacted by someone asking for payment, please do not respond, and contact us at\\xa0india.fc.check@accenture.com\\xa0immediately.\\n\\n\\n\\n\\n\\n\\n\\n\\n\\nEqual Employment Opportunity Statement\\n\\n\\n\\n\\n\\n\\n\\n\\nAll employment decisions shall be made without regard to age, race, creed, color, religion, sex, national origin, ancestry, disability status, veteran status, sexual orientation, gender identity or expression, genetic information, marital status, citizenship status or any other basis as protected by federal, state, or local law.\\n\\xa0\\nJob candidates will not be obligated to disclose sealed or expunged records of conviction or arrest as part of the hiring process.\\n\\xa0\\nAccenture is committed to providing veteran employment opportunities to our service men and women.\\n\\xa0\\nPlease read Accenture’s\\xa0Recruiting and Hiring Statement\\xa0for more information on how we process your data during the Recruiting and Hiring process.\\n\\n\\n\\n\\n\\n\\n\\n\\n\\n\\n\\n\\n\\nApply Now\\n\\n\\n\\n Please be informed that at any given point in time, you can only have one \"Active\" application.\\n\\n\\n\\nRegister for Job Alerts\\n\\n\\n\\n\\n\\nShare\\n\\n\\n\\n\\n\\n\\n\\n\\n\\nShare\\n\\n\\n\\n\\n\\n\\n\\n\\n\\n\\n\\n\\n\\n\\n\\n\\n\\n\\nJob Link:\\n\\n\\nCopy\\n\\n\\n\\n\\n\\n\\n\\n\\n\\n\\n\\nPlease be informed that at any given point in time, you can only have one \"Active\" application.\\n\\n\\n\\n\\n\\n\\n\\n\\n\\n\\n\\n\\n\\n\\n\\n\\n\\n\\n\\n\\n\\nYour browser does not support JavaScript. Some\\n\\tcomponents may not be visible.\\n\\n\\n\\n\\n\\n\\n\\n\\n\\n\\n\\n\\n\\n\\n\\n\\n\\n\\n\\n\\n\\n\\n\\n\\n\\n\\n\\n\\n\\n\\nWhat people are saying about us\\n\\n\\n\\n\\n\\n\\n\\n\\n\\n\\n\\n\\n\\n\\t\\t\\n        \"Best Company to work with\"\\n    \\nCurrent Employee - Software Test Engineer in Bangalore\\n\\xa0\\nPros: best work place, flexible timing, work from home\\n\\nCons: Work life balance depends upon the project. Full Review\\n\\xa0\\nMORE ACCENTURE INDIA RATINGS & REVIEWS \\n\\n\\n\\n\\n\\n\\n\\n\\n\\n\\n\\n\\n\\n\\n\\n\\n\\n\\n\\n\\n\\n\\n\\n\\n\\n\\n\\n\\nLife at Accenture\\n\\n\\n\\n\\nWork where you\\'re inspired to explore your passions and where your talents are nurtured and cultivated. Innovate with leading-edge technologies on some of the coolest projects you can imagine.\\n\\n\\n\\n\\n\\n\\n\\n\\n\\n\\n\\n\\n\\n\\n\\n\\n\\n\\n\\n\\n\\n\\n\\n\\n\\n\\n\\t\\t\\n        Training and Development\\n    \\nTake time away to learn and learn all the time in our regional learning hubs, connected classrooms, online courses and learning boards.\\n\\n\\nLEARN MORE\\n\\n\\n\\n\\n\\n\\n\\n\\n\\n\\n\\n\\n\\n\\n\\n\\t\\t\\n        Work Environment\\n    \\nBe your best every day in a work environment that helps drive innovation in everything you do.\\n\\n\\nLEARN MORE\\n\\n\\n\\n\\n\\n\\n\\n\\n\\n\\n\\n\\n\\n\\n\\n\\n\\n\\n\\n\\n\\n\\n\\n\\n\\n\\n\\n\\n\\n\\nLearn more about Accenture\\n\\n\\n\\n\\nOur more than\\xa0742,000 people in more than 120 countries, combine unmatched experience and specialized skills across more than 40 industries. We embrace the power of change to create value and shared success for our clients, people, shareholders, partners and communities.\\n\\n\\n\\n\\n\\n\\n\\n\\n\\n\\n\\n\\n\\n\\n\\n\\n\\n\\n\\n\\n\\n\\n\\n\\n\\n\\n\\n\\nOur Expertise\\n\\nSee how we embrace the power of change to create value and shared success for our clients, people, shareholders, partners and communities.\\n\\nFIND OUT MORE\\n\\n\\n\\n\\n\\n\\n\\n\\n\\n\\n\\n\\n\\n\\n\\n\\n\\nMeet Our People\\n\\nFrom entry-level to leadership, across all business and industry segments, get to know our people harnessing technology to make a difference, every day.\\n\\n\\nFIND OUT MORE\\n\\n\\n\\n\\n\\n\\n\\n\\n\\n\\n\\n\\n\\n\\n\\n\\n\\n\\n\\n\\n\\n\\n\\n\\n\\n\\n\\n\\nStay connected\\n\\n\\n\\n\\n\\n\\n\\n\\n\\n\\n\\n\\n\\n\\n\\n\\n\\n\\n\\n\\n\\n\\n\\n\\n\\n\\n\\t\\t\\n        Join Our Team\\n    \\nSearch open positions that match your skills and interest. We look for passionate, curious, creative and solution-driven team players.\\n\\n\\nSEARCH ACCENTURE JOBS\\n\\n\\n\\n\\n\\n\\n\\n\\n\\n\\n\\n\\n\\n\\n\\n\\t\\t\\n        Keep Up to Date\\n    \\nStay ahead with careers tips, insider perspectives, and industry-leading insights you can put to use today–all from the people who work here.\\n\\n\\nREAD CAREERS BLOG\\n\\n\\n\\n\\n\\n\\n\\n\\n\\n\\n\\n\\n\\n\\n\\n\\t\\t\\n        Job Alert Emails\\n    \\nPersonalize your subscription to receive job alerts, latest news and insider tips tailored to your preferences. See what exciting and rewarding opportunities await.\\n\\n\\nREGISTER FOR JOB ALERTS\\n\\n\\n\\n\\n\\n\\n\\n\\n\\n\\n\\n\\n\\n\\n\\n\\n\\n\\n\\n\\n\\n\\n\\n\\n\\n\\n\\n\\n\\n\\nPlease enable Advertising and Social Media Cookies to be able to see this content.\\r\\nClick here to update your cookie settings.\\n\\n\\n\\n\\n\\n\\n\\n\\n\\n\\n\\n\\n\\n\\n\\n\\t        \\t\\t\\tAbout US\\n\\t        \\t\\t\\n\\n\\n\\n\\t        \\t\\t\\tContact US\\n\\t        \\t\\t\\n\\n\\n\\n\\t        \\t\\t\\tAlumni\\n\\t        \\t\\t\\n\\n\\n\\n\\t        \\t\\t\\tPRIVACY STATEMENT\\n\\t        \\t\\t\\n\\n\\n\\n\\n\\n\\n\\n\\n\\n\\n\\n\\n\\n\\n\\n\\n\\n\\n\\n\\n\\n\\n\\n\\n\\n\\n\\n\\n\\t        \\t\\t\\tRecruiting and Hiring Privacy Statement\\n\\t        \\t\\t\\n\\n\\n\\n\\t        \\t\\t\\tTerms & Conditions\\n\\t        \\t\\t\\n\\n\\n\\n\\t        \\t\\t\\tCookie Policy\\n\\t        \\t\\t\\n\\n\\n\\n\\t        \\t\\t\\tAccessibility Statement\\n\\t        \\t\\t\\n\\n\\n\\n\\t        \\t\\t\\tSitemap\\n\\t        \\t\\t\\n\\n\\n\\n\\t        \\t\\t\\tGlobal Meritocracy\\n\\t        \\t\\t\\n\\n\\n\\n\\t        \\t\\t\\tImportant Notice About Careers\\n\\t        \\t\\t\\n\\n\\n\\n\\t\\t\\t\\t    © 2024 Accenture. All Rights Reserved.\\n\\t\\t\\t\\t    \\n\\n\\n\\n\\n\\n\\n\\n\\n\\n\\n\\n\\n\\n\\n\\n\\n\\n\\n\\n')]"
            ]
          },
          "metadata": {},
          "execution_count": 50
        }
      ]
    },
    {
      "cell_type": "code",
      "source": [
        "from langchain_core.prompts import PromptTemplate\n",
        "\n",
        "prompt_extract = PromptTemplate.from_template(\n",
        "        \"\"\"\n",
        "        ### SCRAPED TEXT FROM WEBSITE:\n",
        "        {page_data}\n",
        "        ### INSTRUCTION:\n",
        "        The scraped text is from the career's page of a website.\n",
        "        Your job is to extract the job postings and return them in JSON format containing the\n",
        "        following keys: `role`, `experience`, `skills` and `description`.\n",
        "        Only return the valid JSON.\n",
        "        ### VALID JSON (NO PREAMBLE):\n",
        "        \"\"\")\n",
        "\n",
        "chain_extract = prompt_extract | llm\n",
        "res = chain_extract.invoke(input={'page_data':page_data})\n",
        "print(res.content)"
      ],
      "metadata": {
        "colab": {
          "base_uri": "https://localhost:8080/"
        },
        "id": "QVrrLafw9u44",
        "outputId": "c7eb52c4-157c-4474-fcc4-f21563ed9dc8"
      },
      "execution_count": 51,
      "outputs": [
        {
          "output_type": "stream",
          "name": "stdout",
          "text": [
            "```json\n",
            "{\n",
            "  \"role\": \"Responsible AI Engineer\",\n",
            "  \"experience\": \"Minimum 3 years\",\n",
            "  \"skills\": {\n",
            "    \"must_have\": [\"Natural Language Processing (NLP)\"],\n",
            "    \"good_to_have\": [\"NA\"]\n",
            "  },\n",
            "  \"description\": \"As a Responsible AI Engineer, you will assess AI systems for adherence to predefined thresholds and benchmarks related to responsible, ethical, and sustainable practices. You will design and implement technology mitigation strategies for systems to ensure ethical and responsible standards are achieved. Your typical day will involve evaluating AI systems, identifying areas of improvement, and implementing strategies to address ethical concerns and promote responsible AI practices.\"\n",
            "}\n",
            "```\n"
          ]
        }
      ]
    },
    {
      "cell_type": "code",
      "source": [
        "type(res.content)"
      ],
      "metadata": {
        "colab": {
          "base_uri": "https://localhost:8080/"
        },
        "id": "dZh6mWJh8bdh",
        "outputId": "f513df1c-faf3-4863-aa3f-c1526167f31d"
      },
      "execution_count": 52,
      "outputs": [
        {
          "output_type": "execute_result",
          "data": {
            "text/plain": [
              "str"
            ]
          },
          "metadata": {},
          "execution_count": 52
        }
      ]
    },
    {
      "cell_type": "code",
      "source": [
        "from langchain_core.output_parsers import JsonOutputParser\n",
        "\n",
        "json_parser = JsonOutputParser()\n",
        "json_responce = json_parser.parse(res.content)\n",
        "json_responce"
      ],
      "metadata": {
        "colab": {
          "base_uri": "https://localhost:8080/"
        },
        "id": "sfHb0Xfu8bh5",
        "outputId": "20785199-7f7d-4570-cf46-201dccf97b0c"
      },
      "execution_count": 53,
      "outputs": [
        {
          "output_type": "execute_result",
          "data": {
            "text/plain": [
              "{'role': 'Responsible AI Engineer',\n",
              " 'experience': 'Minimum 3 years',\n",
              " 'skills': {'must_have': ['Natural Language Processing (NLP)'],\n",
              "  'good_to_have': ['NA']},\n",
              " 'description': 'As a Responsible AI Engineer, you will assess AI systems for adherence to predefined thresholds and benchmarks related to responsible, ethical, and sustainable practices. You will design and implement technology mitigation strategies for systems to ensure ethical and responsible standards are achieved. Your typical day will involve evaluating AI systems, identifying areas of improvement, and implementing strategies to address ethical concerns and promote responsible AI practices.'}"
            ]
          },
          "metadata": {},
          "execution_count": 53
        }
      ]
    },
    {
      "cell_type": "code",
      "source": [
        "type(json_responce)"
      ],
      "metadata": {
        "colab": {
          "base_uri": "https://localhost:8080/"
        },
        "id": "eufOpeXTHANq",
        "outputId": "c738d1c5-c8f3-4c8e-ac97-d3f7a81f98e2"
      },
      "execution_count": 54,
      "outputs": [
        {
          "output_type": "execute_result",
          "data": {
            "text/plain": [
              "dict"
            ]
          },
          "metadata": {},
          "execution_count": 54
        }
      ]
    },
    {
      "cell_type": "code",
      "source": [],
      "metadata": {
        "id": "PlMtNHNLHAQe"
      },
      "execution_count": null,
      "outputs": []
    },
    {
      "cell_type": "code",
      "source": [],
      "metadata": {
        "id": "DsJU9drwHASv"
      },
      "execution_count": null,
      "outputs": []
    },
    {
      "cell_type": "code",
      "source": [],
      "metadata": {
        "id": "Wy-iZcshHAU8"
      },
      "execution_count": null,
      "outputs": []
    },
    {
      "cell_type": "code",
      "source": [],
      "metadata": {
        "id": "roAECNWyHAXv"
      },
      "execution_count": null,
      "outputs": []
    },
    {
      "cell_type": "code",
      "source": [],
      "metadata": {
        "id": "tthvHRU6HAaL"
      },
      "execution_count": null,
      "outputs": []
    },
    {
      "cell_type": "code",
      "source": [],
      "metadata": {
        "id": "5uhLyqEG8bkp"
      },
      "execution_count": null,
      "outputs": []
    },
    {
      "cell_type": "code",
      "source": [],
      "metadata": {
        "id": "T5drftCK8bnI"
      },
      "execution_count": null,
      "outputs": []
    }
  ]
}